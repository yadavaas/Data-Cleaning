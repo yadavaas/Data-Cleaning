{
 "cells": [
  {
   "cell_type": "markdown",
   "id": "1583cea1",
   "metadata": {
    "papermill": {
     "duration": 0.006622,
     "end_time": "2022-07-04T08:54:00.554438",
     "exception": false,
     "start_time": "2022-07-04T08:54:00.547816",
     "status": "completed"
    },
    "tags": []
   },
   "source": [
    "**This notebook is an exercise in the [Data Cleaning](https://www.kaggle.com/learn/data-cleaning) course.  You can reference the tutorial at [this link](https://www.kaggle.com/alexisbcook/character-encodings).**\n",
    "\n",
    "---\n"
   ]
  },
  {
   "cell_type": "markdown",
   "id": "b537ffa0",
   "metadata": {
    "papermill": {
     "duration": 0.005677,
     "end_time": "2022-07-04T08:54:00.566167",
     "exception": false,
     "start_time": "2022-07-04T08:54:00.560490",
     "status": "completed"
    },
    "tags": []
   },
   "source": [
    "In this exercise, you'll apply what you learned in the **Character encodings** tutorial.\n",
    "\n",
    "# Setup\n",
    "\n",
    "The questions below will give you feedback on your work. Run the following cell to set up the feedback system."
   ]
  },
  {
   "cell_type": "code",
   "execution_count": 1,
   "id": "6cb48311",
   "metadata": {
    "execution": {
     "iopub.execute_input": "2022-07-04T08:54:00.580390Z",
     "iopub.status.busy": "2022-07-04T08:54:00.579447Z",
     "iopub.status.idle": "2022-07-04T08:54:00.682115Z",
     "shell.execute_reply": "2022-07-04T08:54:00.681128Z"
    },
    "papermill": {
     "duration": 0.114174,
     "end_time": "2022-07-04T08:54:00.686225",
     "exception": false,
     "start_time": "2022-07-04T08:54:00.572051",
     "status": "completed"
    },
    "tags": []
   },
   "outputs": [
    {
     "name": "stdout",
     "output_type": "stream",
     "text": [
      "Setup Complete\n"
     ]
    }
   ],
   "source": [
    "from learntools.core import binder\n",
    "binder.bind(globals())\n",
    "from learntools.data_cleaning.ex4 import *\n",
    "print(\"Setup Complete\")"
   ]
  },
  {
   "cell_type": "markdown",
   "id": "5168f262",
   "metadata": {
    "papermill": {
     "duration": 0.005566,
     "end_time": "2022-07-04T08:54:00.698362",
     "exception": false,
     "start_time": "2022-07-04T08:54:00.692796",
     "status": "completed"
    },
    "tags": []
   },
   "source": [
    "# Get our environment set up\n",
    "\n",
    "The first thing we'll need to do is load in the libraries we'll be using."
   ]
  },
  {
   "cell_type": "code",
   "execution_count": 2,
   "id": "dd2e294e",
   "metadata": {
    "execution": {
     "iopub.execute_input": "2022-07-04T08:54:00.712810Z",
     "iopub.status.busy": "2022-07-04T08:54:00.711788Z",
     "iopub.status.idle": "2022-07-04T08:54:00.717419Z",
     "shell.execute_reply": "2022-07-04T08:54:00.716515Z"
    },
    "papermill": {
     "duration": 0.01527,
     "end_time": "2022-07-04T08:54:00.719755",
     "exception": false,
     "start_time": "2022-07-04T08:54:00.704485",
     "status": "completed"
    },
    "tags": []
   },
   "outputs": [],
   "source": [
    "# modules we'll use\n",
    "import pandas as pd\n",
    "import numpy as np\n",
    "\n",
    "# helpful character encoding module\n",
    "import chardet\n",
    "\n",
    "# set seed for reproducibility\n",
    "np.random.seed(0)"
   ]
  },
  {
   "cell_type": "markdown",
   "id": "c7c3c68c",
   "metadata": {
    "papermill": {
     "duration": 0.005461,
     "end_time": "2022-07-04T08:54:00.730988",
     "exception": false,
     "start_time": "2022-07-04T08:54:00.725527",
     "status": "completed"
    },
    "tags": []
   },
   "source": [
    "# 1) What are encodings?\n",
    "\n",
    "You're working with a dataset composed of bytes.  Run the code cell below to print a sample entry."
   ]
  },
  {
   "cell_type": "code",
   "execution_count": 3,
   "id": "ad03598e",
   "metadata": {
    "execution": {
     "iopub.execute_input": "2022-07-04T08:54:00.744364Z",
     "iopub.status.busy": "2022-07-04T08:54:00.743927Z",
     "iopub.status.idle": "2022-07-04T08:54:00.749275Z",
     "shell.execute_reply": "2022-07-04T08:54:00.748426Z"
    },
    "papermill": {
     "duration": 0.014969,
     "end_time": "2022-07-04T08:54:00.751610",
     "exception": false,
     "start_time": "2022-07-04T08:54:00.736641",
     "status": "completed"
    },
    "tags": []
   },
   "outputs": [
    {
     "name": "stdout",
     "output_type": "stream",
     "text": [
      "b'\\xa7A\\xa6n'\n",
      "data type: <class 'bytes'>\n"
     ]
    }
   ],
   "source": [
    "sample_entry = b'\\xa7A\\xa6n'\n",
    "print(sample_entry)\n",
    "print('data type:', type(sample_entry))"
   ]
  },
  {
   "cell_type": "markdown",
   "id": "f9e18f5d",
   "metadata": {
    "papermill": {
     "duration": 0.005405,
     "end_time": "2022-07-04T08:54:00.762773",
     "exception": false,
     "start_time": "2022-07-04T08:54:00.757368",
     "status": "completed"
    },
    "tags": []
   },
   "source": [
    "You notice that it doesn't use the standard UTF-8 encoding. \n",
    "\n",
    "Use the next code cell to create a variable `new_entry` that changes the encoding from `\"big5-tw\"` to `\"utf-8\"`.  `new_entry` should have the bytes datatype."
   ]
  },
  {
   "cell_type": "code",
   "execution_count": 4,
   "id": "71a14eaf",
   "metadata": {
    "execution": {
     "iopub.execute_input": "2022-07-04T08:54:00.777073Z",
     "iopub.status.busy": "2022-07-04T08:54:00.776361Z",
     "iopub.status.idle": "2022-07-04T08:54:00.789738Z",
     "shell.execute_reply": "2022-07-04T08:54:00.788434Z"
    },
    "papermill": {
     "duration": 0.023578,
     "end_time": "2022-07-04T08:54:00.792550",
     "exception": false,
     "start_time": "2022-07-04T08:54:00.768972",
     "status": "completed"
    },
    "tags": []
   },
   "outputs": [
    {
     "name": "stdout",
     "output_type": "stream",
     "text": [
      "<class 'bytes'>\n"
     ]
    },
    {
     "data": {
      "application/javascript": [
       "parent.postMessage({\"jupyterEvent\": \"custom.exercise_interaction\", \"data\": {\"outcomeType\": 1, \"valueTowardsCompletion\": 0.3333333333333333, \"interactionType\": 1, \"questionType\": 1, \"questionId\": \"1_EncodingsIntro\", \"learnToolsVersion\": \"0.3.4\", \"failureMessage\": \"\", \"exceptionClass\": \"\", \"trace\": \"\"}}, \"*\")"
      ],
      "text/plain": [
       "<IPython.core.display.Javascript object>"
      ]
     },
     "metadata": {},
     "output_type": "display_data"
    },
    {
     "data": {
      "text/markdown": [
       "<span style=\"color:#33cc33\">Correct</span>"
      ],
      "text/plain": [
       "Correct"
      ]
     },
     "metadata": {},
     "output_type": "display_data"
    }
   ],
   "source": [
    "new_entry = (sample_entry.decode(\"big5-tw\")).encode(\"utf-8\", errors=\"replace\")\n",
    "print(type(new_entry))\n",
    "\n",
    "# Check your answer\n",
    "q1.check()"
   ]
  },
  {
   "cell_type": "code",
   "execution_count": 5,
   "id": "89d5ac47",
   "metadata": {
    "execution": {
     "iopub.execute_input": "2022-07-04T08:54:00.807291Z",
     "iopub.status.busy": "2022-07-04T08:54:00.806867Z",
     "iopub.status.idle": "2022-07-04T08:54:00.816589Z",
     "shell.execute_reply": "2022-07-04T08:54:00.815610Z"
    },
    "papermill": {
     "duration": 0.019831,
     "end_time": "2022-07-04T08:54:00.818833",
     "exception": false,
     "start_time": "2022-07-04T08:54:00.799002",
     "status": "completed"
    },
    "tags": []
   },
   "outputs": [
    {
     "data": {
      "application/javascript": [
       "parent.postMessage({\"jupyterEvent\": \"custom.exercise_interaction\", \"data\": {\"interactionType\": 3, \"questionType\": 1, \"questionId\": \"1_EncodingsIntro\", \"learnToolsVersion\": \"0.3.4\", \"valueTowardsCompletion\": 0.0, \"failureMessage\": \"\", \"exceptionClass\": \"\", \"trace\": \"\", \"outcomeType\": 4}}, \"*\")"
      ],
      "text/plain": [
       "<IPython.core.display.Javascript object>"
      ]
     },
     "metadata": {},
     "output_type": "display_data"
    },
    {
     "data": {
      "text/markdown": [
       "<span style=\"color:#33cc99\">Solution:</span> \n",
       "```python\n",
       "before = sample_entry.decode(\"big5-tw\")\n",
       "new_entry = before.encode()\n",
       "\n",
       "```"
      ],
      "text/plain": [
       "Solution: \n",
       "```python\n",
       "before = sample_entry.decode(\"big5-tw\")\n",
       "new_entry = before.encode()\n",
       "\n",
       "```"
      ]
     },
     "metadata": {},
     "output_type": "display_data"
    }
   ],
   "source": [
    "# Lines below will give you a hint or solution code\n",
    "#q1.hint()\n",
    "q1.solution()"
   ]
  },
  {
   "cell_type": "markdown",
   "id": "386bea33",
   "metadata": {
    "papermill": {
     "duration": 0.005952,
     "end_time": "2022-07-04T08:54:00.831011",
     "exception": false,
     "start_time": "2022-07-04T08:54:00.825059",
     "status": "completed"
    },
    "tags": []
   },
   "source": [
    "# 2) Reading in files with encoding problems\n",
    "\n",
    "Use the code cell below to read in this file at path `\"../input/fatal-police-shootings-in-the-us/PoliceKillingsUS.csv\"`.  \n",
    "\n",
    "Figure out what the correct encoding should be and read in the file to a DataFrame `police_killings`."
   ]
  },
  {
   "cell_type": "code",
   "execution_count": 6,
   "id": "03ad6962",
   "metadata": {
    "execution": {
     "iopub.execute_input": "2022-07-04T08:54:00.846085Z",
     "iopub.status.busy": "2022-07-04T08:54:00.845219Z",
     "iopub.status.idle": "2022-07-04T08:54:01.780922Z",
     "shell.execute_reply": "2022-07-04T08:54:01.779582Z"
    },
    "papermill": {
     "duration": 0.946139,
     "end_time": "2022-07-04T08:54:01.783512",
     "exception": false,
     "start_time": "2022-07-04T08:54:00.837373",
     "status": "completed"
    },
    "tags": []
   },
   "outputs": [
    {
     "name": "stdout",
     "output_type": "stream",
     "text": [
      "{'encoding': 'Windows-1252', 'confidence': 0.73, 'language': ''}\n"
     ]
    }
   ],
   "source": [
    "# look at the first ten thousand bytes to guess the character encoding\n",
    "with open(\"../input/fatal-police-shootings-in-the-us/PoliceKillingsUS.csv\", 'rb') as rawdata:\n",
    "    result = chardet.detect(rawdata.read(50000))\n",
    "\n",
    "# check what the character encoding might be\n",
    "print(result)"
   ]
  },
  {
   "cell_type": "code",
   "execution_count": 7,
   "id": "187ab8c7",
   "metadata": {
    "execution": {
     "iopub.execute_input": "2022-07-04T08:54:01.798678Z",
     "iopub.status.busy": "2022-07-04T08:54:01.798255Z",
     "iopub.status.idle": "2022-07-04T08:54:01.824178Z",
     "shell.execute_reply": "2022-07-04T08:54:01.823280Z"
    },
    "papermill": {
     "duration": 0.036316,
     "end_time": "2022-07-04T08:54:01.826242",
     "exception": false,
     "start_time": "2022-07-04T08:54:01.789926",
     "status": "completed"
    },
    "tags": []
   },
   "outputs": [
    {
     "data": {
      "application/javascript": [
       "parent.postMessage({\"jupyterEvent\": \"custom.exercise_interaction\", \"data\": {\"outcomeType\": 1, \"valueTowardsCompletion\": 0.3333333333333333, \"interactionType\": 1, \"questionType\": 1, \"questionId\": \"2_ReadIn\", \"learnToolsVersion\": \"0.3.4\", \"failureMessage\": \"\", \"exceptionClass\": \"\", \"trace\": \"\"}}, \"*\")"
      ],
      "text/plain": [
       "<IPython.core.display.Javascript object>"
      ]
     },
     "metadata": {},
     "output_type": "display_data"
    },
    {
     "data": {
      "text/markdown": [
       "<span style=\"color:#33cc33\">Correct</span>"
      ],
      "text/plain": [
       "Correct"
      ]
     },
     "metadata": {},
     "output_type": "display_data"
    }
   ],
   "source": [
    "# TODO: Load in the DataFrame correctly.\n",
    "police_killings = pd.read_csv(\"../input/fatal-police-shootings-in-the-us/PoliceKillingsUS.csv\", encoding=\"Windows-1252\")\n",
    "\n",
    "# Check your answer\n",
    "q2.check()"
   ]
  },
  {
   "cell_type": "markdown",
   "id": "1f5c896c",
   "metadata": {
    "papermill": {
     "duration": 0.006754,
     "end_time": "2022-07-04T08:54:01.839772",
     "exception": false,
     "start_time": "2022-07-04T08:54:01.833018",
     "status": "completed"
    },
    "tags": []
   },
   "source": [
    "Feel free to use any additional code cells for supplemental work.  To get credit for finishing this question, you'll need to run `q2.check()` and get a result of **Correct**."
   ]
  },
  {
   "cell_type": "code",
   "execution_count": 8,
   "id": "9fd0e0ef",
   "metadata": {
    "execution": {
     "iopub.execute_input": "2022-07-04T08:54:01.855979Z",
     "iopub.status.busy": "2022-07-04T08:54:01.854799Z",
     "iopub.status.idle": "2022-07-04T08:54:01.859899Z",
     "shell.execute_reply": "2022-07-04T08:54:01.858995Z"
    },
    "papermill": {
     "duration": 0.015295,
     "end_time": "2022-07-04T08:54:01.862099",
     "exception": false,
     "start_time": "2022-07-04T08:54:01.846804",
     "status": "completed"
    },
    "tags": []
   },
   "outputs": [],
   "source": [
    "# (Optional) Use this code cell for any additional work."
   ]
  },
  {
   "cell_type": "code",
   "execution_count": 9,
   "id": "7e69d6d4",
   "metadata": {
    "execution": {
     "iopub.execute_input": "2022-07-04T08:54:01.878046Z",
     "iopub.status.busy": "2022-07-04T08:54:01.877293Z",
     "iopub.status.idle": "2022-07-04T08:54:01.881069Z",
     "shell.execute_reply": "2022-07-04T08:54:01.880290Z"
    },
    "papermill": {
     "duration": 0.014132,
     "end_time": "2022-07-04T08:54:01.883001",
     "exception": false,
     "start_time": "2022-07-04T08:54:01.868869",
     "status": "completed"
    },
    "tags": []
   },
   "outputs": [],
   "source": [
    "# Lines below will give you a hint or solution code\n",
    "#q2.hint()\n",
    "#q2.solution()"
   ]
  },
  {
   "cell_type": "markdown",
   "id": "dbce975d",
   "metadata": {
    "papermill": {
     "duration": 0.006601,
     "end_time": "2022-07-04T08:54:01.896389",
     "exception": false,
     "start_time": "2022-07-04T08:54:01.889788",
     "status": "completed"
    },
    "tags": []
   },
   "source": [
    "# 3) Saving your files with UTF-8 encoding\n",
    "\n",
    "Save a version of the police killings dataset to CSV with UTF-8 encoding.  Your answer will be marked correct after saving this file.  \n",
    "\n",
    "Note: When using the `to_csv()` method, supply only the name of the file (e.g., `\"my_file.csv\"`).  This saves the file at the filepath `\"/kaggle/working/my_file.csv\"`."
   ]
  },
  {
   "cell_type": "code",
   "execution_count": 10,
   "id": "6c896503",
   "metadata": {
    "execution": {
     "iopub.execute_input": "2022-07-04T08:54:01.912277Z",
     "iopub.status.busy": "2022-07-04T08:54:01.911809Z",
     "iopub.status.idle": "2022-07-04T08:54:01.957350Z",
     "shell.execute_reply": "2022-07-04T08:54:01.956114Z"
    },
    "papermill": {
     "duration": 0.057227,
     "end_time": "2022-07-04T08:54:01.960448",
     "exception": false,
     "start_time": "2022-07-04T08:54:01.903221",
     "status": "completed"
    },
    "tags": []
   },
   "outputs": [
    {
     "data": {
      "application/javascript": [
       "parent.postMessage({\"jupyterEvent\": \"custom.exercise_interaction\", \"data\": {\"outcomeType\": 1, \"valueTowardsCompletion\": 0.3333333333333333, \"interactionType\": 1, \"questionType\": 2, \"questionId\": \"3_SaveCSV\", \"learnToolsVersion\": \"0.3.4\", \"failureMessage\": \"\", \"exceptionClass\": \"\", \"trace\": \"\"}}, \"*\")"
      ],
      "text/plain": [
       "<IPython.core.display.Javascript object>"
      ]
     },
     "metadata": {},
     "output_type": "display_data"
    },
    {
     "data": {
      "text/markdown": [
       "<span style=\"color:#33cc33\">Correct</span>"
      ],
      "text/plain": [
       "Correct"
      ]
     },
     "metadata": {},
     "output_type": "display_data"
    }
   ],
   "source": [
    "# TODO: Save the police killings dataset to CSV\n",
    "police_killings.to_csv(\"my_file.csv\")\n",
    "\n",
    "# Check your answer\n",
    "q3.check()"
   ]
  },
  {
   "cell_type": "code",
   "execution_count": 11,
   "id": "975edfa2",
   "metadata": {
    "execution": {
     "iopub.execute_input": "2022-07-04T08:54:01.978126Z",
     "iopub.status.busy": "2022-07-04T08:54:01.977385Z",
     "iopub.status.idle": "2022-07-04T08:54:01.985311Z",
     "shell.execute_reply": "2022-07-04T08:54:01.984431Z"
    },
    "papermill": {
     "duration": 0.018709,
     "end_time": "2022-07-04T08:54:01.987438",
     "exception": false,
     "start_time": "2022-07-04T08:54:01.968729",
     "status": "completed"
    },
    "tags": []
   },
   "outputs": [
    {
     "data": {
      "application/javascript": [
       "parent.postMessage({\"jupyterEvent\": \"custom.exercise_interaction\", \"data\": {\"interactionType\": 3, \"questionType\": 2, \"questionId\": \"3_SaveCSV\", \"learnToolsVersion\": \"0.3.4\", \"valueTowardsCompletion\": 0.0, \"failureMessage\": \"\", \"exceptionClass\": \"\", \"trace\": \"\", \"outcomeType\": 4}}, \"*\")"
      ],
      "text/plain": [
       "<IPython.core.display.Javascript object>"
      ]
     },
     "metadata": {},
     "output_type": "display_data"
    },
    {
     "data": {
      "text/markdown": [
       "<span style=\"color:#33cc99\">Solution:</span> \n",
       "```python\n",
       "\n",
       "police_killings.to_csv(\"my_file.csv\")\n",
       "\n",
       "```"
      ],
      "text/plain": [
       "Solution: \n",
       "```python\n",
       "\n",
       "police_killings.to_csv(\"my_file.csv\")\n",
       "\n",
       "```"
      ]
     },
     "metadata": {},
     "output_type": "display_data"
    }
   ],
   "source": [
    "# Lines below will give you a hint or solution code\n",
    "#q3.hint()\n",
    "q3.solution()"
   ]
  },
  {
   "cell_type": "markdown",
   "id": "864b4f67",
   "metadata": {
    "papermill": {
     "duration": 0.00694,
     "end_time": "2022-07-04T08:54:02.001597",
     "exception": false,
     "start_time": "2022-07-04T08:54:01.994657",
     "status": "completed"
    },
    "tags": []
   },
   "source": [
    "# (Optional) More practice\n",
    "\n",
    "Check out [this dataset of files in different character encodings](https://www.kaggle.com/rtatman/character-encoding-examples). Can you read in all the files with their original encodings and them save them out as UTF-8 files?\n",
    "\n",
    "If you have a file that's in UTF-8 but has just a couple of weird-looking characters in it, you can try out the [ftfy module](https://ftfy.readthedocs.io/en/latest/#) and see if it helps. \n",
    "\n",
    "# Keep going\n",
    "\n",
    "In the final lesson, learn how to [**clean up inconsistent text entries**](https://www.kaggle.com/alexisbcook/inconsistent-data-entry) in your dataset."
   ]
  },
  {
   "cell_type": "markdown",
   "id": "c92bc751",
   "metadata": {
    "papermill": {
     "duration": 0.006952,
     "end_time": "2022-07-04T08:54:02.015749",
     "exception": false,
     "start_time": "2022-07-04T08:54:02.008797",
     "status": "completed"
    },
    "tags": []
   },
   "source": [
    "---\n",
    "\n",
    "\n",
    "\n",
    "\n",
    "*Have questions or comments? Visit the [course discussion forum](https://www.kaggle.com/learn/data-cleaning/discussion) to chat with other learners.*"
   ]
  }
 ],
 "metadata": {
  "kernelspec": {
   "display_name": "Python 3",
   "language": "python",
   "name": "python3"
  },
  "language_info": {
   "codemirror_mode": {
    "name": "ipython",
    "version": 3
   },
   "file_extension": ".py",
   "mimetype": "text/x-python",
   "name": "python",
   "nbconvert_exporter": "python",
   "pygments_lexer": "ipython3",
   "version": "3.7.12"
  },
  "papermill": {
   "default_parameters": {},
   "duration": 12.923342,
   "end_time": "2022-07-04T08:54:02.644806",
   "environment_variables": {},
   "exception": null,
   "input_path": "__notebook__.ipynb",
   "output_path": "__notebook__.ipynb",
   "parameters": {},
   "start_time": "2022-07-04T08:53:49.721464",
   "version": "2.3.4"
  }
 },
 "nbformat": 4,
 "nbformat_minor": 5
}
